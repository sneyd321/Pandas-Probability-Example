{
 "cells": [
  {
   "cell_type": "code",
   "execution_count": 4,
   "metadata": {},
   "outputs": [
    {
     "data": {
      "text/html": [
       "<div>\n",
       "<style>\n",
       "    .dataframe thead tr:only-child th {\n",
       "        text-align: right;\n",
       "    }\n",
       "\n",
       "    .dataframe thead th {\n",
       "        text-align: left;\n",
       "    }\n",
       "\n",
       "    .dataframe tbody tr th {\n",
       "        vertical-align: top;\n",
       "    }\n",
       "</style>\n",
       "<table border=\"1\" class=\"dataframe\">\n",
       "  <thead>\n",
       "    <tr style=\"text-align: right;\">\n",
       "      <th></th>\n",
       "      <th>ID</th>\n",
       "      <th>Game</th>\n",
       "      <th>Platform</th>\n",
       "      <th>Score</th>\n",
       "      <th>Genre</th>\n",
       "    </tr>\n",
       "  </thead>\n",
       "  <tbody>\n",
       "    <tr>\n",
       "      <th>0</th>\n",
       "      <td>1</td>\n",
       "      <td>Wolfenstein: The New Order</td>\n",
       "      <td>Xbox One</td>\n",
       "      <td>7.8</td>\n",
       "      <td>Shooter</td>\n",
       "    </tr>\n",
       "    <tr>\n",
       "      <th>1</th>\n",
       "      <td>2</td>\n",
       "      <td>Mario Kart 8</td>\n",
       "      <td>Wii U</td>\n",
       "      <td>9.0</td>\n",
       "      <td>Racing-Action</td>\n",
       "    </tr>\n",
       "    <tr>\n",
       "      <th>2</th>\n",
       "      <td>3</td>\n",
       "      <td>Sportsfriends</td>\n",
       "      <td>PlayStation 3</td>\n",
       "      <td>8.7</td>\n",
       "      <td>Action-Compilation</td>\n",
       "    </tr>\n",
       "    <tr>\n",
       "      <th>3</th>\n",
       "      <td>4</td>\n",
       "      <td>Sportsfriends</td>\n",
       "      <td>PlayStation 4</td>\n",
       "      <td>8.7</td>\n",
       "      <td>Action-Compilation</td>\n",
       "    </tr>\n",
       "    <tr>\n",
       "      <th>4</th>\n",
       "      <td>5</td>\n",
       "      <td>Sportsfriends</td>\n",
       "      <td>PC</td>\n",
       "      <td>8.7</td>\n",
       "      <td>Action-Compilation</td>\n",
       "    </tr>\n",
       "  </tbody>\n",
       "</table>\n",
       "</div>"
      ],
      "text/plain": [
       "   ID                        Game       Platform  Score               Genre\n",
       "0   1  Wolfenstein: The New Order       Xbox One    7.8             Shooter\n",
       "1   2                Mario Kart 8          Wii U    9.0       Racing-Action\n",
       "2   3               Sportsfriends  PlayStation 3    8.7  Action-Compilation\n",
       "3   4               Sportsfriends  PlayStation 4    8.7  Action-Compilation\n",
       "4   5               Sportsfriends             PC    8.7  Action-Compilation"
      ]
     },
     "execution_count": 4,
     "metadata": {},
     "output_type": "execute_result"
    }
   ],
   "source": [
    "import numpy as np\n",
    "import pandas as pd\n",
    "\n",
    "#Open File\n",
    "data = pd.read_csv(\"C:\\\\Users\\\\Ryan\\\\Desktop\\\\IGN_game_ratings.csv\")"
   ]
  },
  {
   "cell_type": "code",
   "execution_count": 102,
   "metadata": {
    "scrolled": true
   },
   "outputs": [
    {
     "name": "stdout",
     "output_type": "stream",
     "text": [
      "The Average Score is:  6.91\n",
      "The Standard Deviation of the Score is:  1.72\n",
      "The Score of the game is:  9.0\n",
      "The Z-Score of the Score is:  1.21\n"
     ]
    }
   ],
   "source": [
    "#Calculate Average\n",
    "average = data['Score'].mean()\n",
    "print(\"The Average Score is: \", str(round(average, 2)))\n",
    "\n",
    "#Calculate Standard Deviation\n",
    "std = data['Score'].std()\n",
    "print(\"The Standard Deviation of the Score is: \", str(round(std, 2)))\n",
    "\n",
    "#Calculate Z-Score\n",
    "game = data[data['Game'] == 'Super Mario Kart'][\"Score\"].values[0]\n",
    "print(\"The Score of the game is: \", game)\n",
    "ans = (game - average)/std\n",
    "print(\"The Z-Score of the Score is: \", str(round(ans, 2)))\n"
   ]
  },
  {
   "cell_type": "code",
   "execution_count": 55,
   "metadata": {},
   "outputs": [
    {
     "data": {
      "text/plain": [
       "PC                      3026\n",
       "PlayStation 2           1683\n",
       "Xbox 360                1582\n",
       "Wii                     1347\n",
       "PlayStation 3           1295\n",
       "Nintendo DS             1040\n",
       "PlayStation              952\n",
       "Wireless                 905\n",
       "Xbox                     822\n",
       "iPhone                   815\n",
       "PlayStation Portable     625\n",
       "Game Boy Advance         620\n",
       "GameCube                 509\n",
       "Game Boy Color           356\n",
       "Nintendo 64              301\n",
       "Dreamcast                286\n",
       "Nintendo DSi             255\n",
       "Nintendo 3DS             173\n",
       "PlayStation Vita         114\n",
       "iPad                      94\n",
       "Name: Platform, dtype: int64"
      ]
     },
     "execution_count": 55,
     "metadata": {},
     "output_type": "execute_result"
    }
   ],
   "source": [
    "#Determine top 20 Platforms\n",
    "data[\"Platform\"].value_counts().nlargest(20)"
   ]
  },
  {
   "cell_type": "code",
   "execution_count": 103,
   "metadata": {},
   "outputs": [
    {
     "name": "stdout",
     "output_type": "stream",
     "text": [
      "Average Score for Shooters is:  7.09\n"
     ]
    }
   ],
   "source": [
    "#Average score of all the shooter games\n",
    "avgShooter = data[data[\"Genre\"] == \"Shooter\"][\"Score\"].mean()\n",
    "print(\"Average Score for Shooters is: \", str(round(avgShooter, 2)))"
   ]
  },
  {
   "cell_type": "code",
   "execution_count": 62,
   "metadata": {},
   "outputs": [
    {
     "data": {
      "text/plain": [
       "Game Boy Color    10\n",
       "PlayStation 3      9\n",
       "Name: Platform, dtype: int64"
      ]
     },
     "execution_count": 62,
     "metadata": {},
     "output_type": "execute_result"
    }
   ],
   "source": [
    "#Determine top 2 platforms with perfect scores\n",
    "data[data[\"Score\"] == 10][\"Platform\"].value_counts().nlargest(2)"
   ]
  },
  {
   "cell_type": "code",
   "execution_count": 113,
   "metadata": {},
   "outputs": [
    {
     "name": "stdout",
     "output_type": "stream",
     "text": [
      "Total number of RPG games:  866\n",
      "Total number of game is : 17534\n",
      "The probability of a game being a RPG is:  4.94 %\n"
     ]
    }
   ],
   "source": [
    "#Probability of RPG\n",
    "rpg = data[data[\"Genre\"] == \"RPG\"][\"Genre\"].value_counts().values[0]\n",
    "print(\"Total number of RPG games: \", rpg)\n",
    "total = len(data)\n",
    "print(\"Total number of game is :\", total)\n",
    "answer = (rpg/total)*100\n",
    "\n",
    "print(\"The probability of a game being a RPG is: \", str(round((rpg/total)*100,2)), \"%\")"
   ]
  },
  {
   "cell_type": "code",
   "execution_count": 115,
   "metadata": {},
   "outputs": [
    {
     "name": "stdout",
     "output_type": "stream",
     "text": [
      "The total number of games less than 5/10 is:  3045\n",
      "Total number of game is : 17534\n",
      "The probabillity of a game being less than 5/10 is:  17.37 %\n"
     ]
    }
   ],
   "source": [
    "#Probability of being less that 5/10\n",
    "score = data[data[\"Score\"] <= 5][\"Score\"].count()\n",
    "print(\"The total number of games less than 5/10 is: \", score)\n",
    "total = len(data)\n",
    "print(\"Total number of game is :\", total)\n",
    "print(\"The probabillity of a game being less than 5/10 is: \", str(round((score/total)*100,2)), \"%\")"
   ]
  },
  {
   "cell_type": "code",
   "execution_count": null,
   "metadata": {
    "collapsed": true
   },
   "outputs": [],
   "source": []
  }
 ],
 "metadata": {
  "kernelspec": {
   "display_name": "Python 3",
   "language": "python",
   "name": "python3"
  },
  "language_info": {
   "codemirror_mode": {
    "name": "ipython",
    "version": 3
   },
   "file_extension": ".py",
   "mimetype": "text/x-python",
   "name": "python",
   "nbconvert_exporter": "python",
   "pygments_lexer": "ipython3",
   "version": "3.6.1"
  }
 },
 "nbformat": 4,
 "nbformat_minor": 2
}
